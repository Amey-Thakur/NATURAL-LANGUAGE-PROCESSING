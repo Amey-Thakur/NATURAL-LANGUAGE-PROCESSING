{
  "nbformat": 4,
  "nbformat_minor": 0,
  "metadata": {
    "colab": {
      "name": "Word_Generator.ipynb",
      "private_outputs": true,
      "provenance": [],
      "authorship_tag": "ABX9TyP/rPCNO+hvBE9tD81bFjiQ",
      "include_colab_link": true
    },
    "kernelspec": {
      "name": "python3",
      "display_name": "Python 3"
    },
    "language_info": {
      "name": "python"
    }
  },
  "cells": [
    {
      "cell_type": "markdown",
      "metadata": {
        "id": "view-in-github",
        "colab_type": "text"
      },
      "source": [
        "<a href=\"https://colab.research.google.com/github/Amey-Thakur/NATURAL-LANGUAGE-PROCESSING/blob/main/Word_Generator.ipynb\" target=\"_parent\"><img src=\"https://colab.research.google.com/assets/colab-badge.svg\" alt=\"Open In Colab\"/></a>"
      ]
    },
    {
      "cell_type": "markdown",
      "source": [
        "# **Word Generator**"
      ],
      "metadata": {
        "id": "JoYIkTINaoqq"
      }
    },
    {
      "cell_type": "code",
      "execution_count": null,
      "metadata": {
        "id": "gb95o9Wkadyz"
      },
      "outputs": [],
      "source": [
        "feature = [{'root':'boy','cat':'n','gender':'-','num':'sg','person':'-','tense':'-','word':'boy'},\n",
        "           {'root':'boy','cat':'n','gender':'-','num':'pl','person':'-','tense':'-','word':'boys'},\n",
        "           {'root':'child','cat':'n','gender':'-','num':'pl','person':'-','tense':'-','word':'children'},\n",
        "           {'root':'play','cat':'v','gender':'male','num':'sg','person':'first','tense':'simple-present','word':'play'},\n",
        "           {'root':'play','cat':'v','gender':'male','num':'sg','person':'third','tense':'simple-present','word':'plays'},\n",
        "           {'root':'walk','cat':'v','gender':'male','num':'sg','person':'first','tense':'present-continuous','word':'walking'}\n",
        "          ]"
      ]
    },
    {
      "cell_type": "code",
      "source": [
        "def generate():\n",
        "    root = input('root')\n",
        "    cat = input('cat')\n",
        "    gen = input('gen')\n",
        "    num = input('num')\n",
        "    per = input('per')\n",
        "    ten = input('ten')\n",
        "    for word in feature:\n",
        "        if word['root'] == root:\n",
        "            if word['cat'] == cat:\n",
        "                if word['num'] == num:\n",
        "                    if word['gender'] == gen:\n",
        "                        if word['person'] == per:\n",
        "                            if word['tense'] == ten:\n",
        "                                return word['word']\n",
        "    return 'not found'"
      ],
      "metadata": {
        "id": "CavgVqqQaywB"
      },
      "execution_count": null,
      "outputs": []
    },
    {
      "cell_type": "code",
      "source": [
        "word = generate()\n",
        "print ('The word is', word)"
      ],
      "metadata": {
        "id": "PQ4iMSZAa1JN"
      },
      "execution_count": null,
      "outputs": []
    }
  ]
}