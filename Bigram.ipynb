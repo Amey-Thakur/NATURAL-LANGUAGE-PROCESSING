{
  "nbformat": 4,
  "nbformat_minor": 0,
  "metadata": {
    "colab": {
      "name": "Bigram.ipynb",
      "private_outputs": true,
      "provenance": [],
      "authorship_tag": "ABX9TyOz6xiadZ7fBIUjRDvCIf++",
      "include_colab_link": true
    },
    "kernelspec": {
      "name": "python3",
      "display_name": "Python 3"
    },
    "language_info": {
      "name": "python"
    }
  },
  "cells": [
    {
      "cell_type": "markdown",
      "metadata": {
        "id": "view-in-github",
        "colab_type": "text"
      },
      "source": [
        "<a href=\"https://colab.research.google.com/github/Amey-Thakur/NATURAL-LANGUAGE-PROCESSING-AND-COMPUTATIONAL-LAB-II/blob/main/Bigram.ipynb\" target=\"_parent\"><img src=\"https://colab.research.google.com/assets/colab-badge.svg\" alt=\"Open In Colab\"/></a>"
      ]
    },
    {
      "cell_type": "code",
      "execution_count": null,
      "metadata": {
        "id": "j5i-H9Q7ljDT"
      },
      "outputs": [],
      "source": [
        "def readData():\n",
        "    data = ['This is a  dog','This is a cat','I love my cat','This is my name ']\n",
        "    dat=[]\n",
        "    for i in range(len(data)):\n",
        "        for word in data[i].split():\n",
        "            dat.append(word)\n",
        "    print(dat)\n",
        "    return dat\n",
        "\n",
        "def createBigram(data):\n",
        "    listOfBigrams = []\n",
        "    bigramCounts = {}\n",
        "    unigramCounts = {}\n",
        "    for i in range(len(data)-1):\n",
        "        if i<len(data) - 1 and data[i+1].islower():\n",
        "            listOfBigrams.append((data[i], data[i + 1]))\n",
        "        if (data[i], data[i+1]) in bigramCounts:\n",
        "            bigramCounts[(data[i], data[i + 1])] += 1\n",
        "        else:\n",
        "            bigramCounts[(data[i], data[i + 1])] = 1\n",
        "\n",
        "    if data[i] in unigramCounts:\n",
        "        unigramCounts[data[i]] += 1\n",
        "    else:\n",
        "        unigramCounts[data[i]] = 1\n",
        "    return listOfBigrams, unigramCounts, bigramCounts\n",
        "\n",
        "\n",
        "def calcBigramProb(listOfBigrams, unigramCounts, bigramCounts):\n",
        "    listOfProb = {}\n",
        "    for bigram in listOfBigrams:\n",
        "        word1 = bigram[0]\n",
        "        word2 = bigram[1]\n",
        "    listOfProb[bigram] = (bigramCounts.get(bigram))/(unigramCounts.get(word1))\n",
        "    return listOfProb\n",
        "\n",
        "\n",
        "if __name__ == '__main__':\n",
        "    data = readData()\n",
        "listOfBigrams, unigramCounts, bigramCounts = createBigram(data)\n",
        "\n",
        "print(\"\\n All the possible Bigrams are \")\n",
        "print(listOfBigrams)\n",
        "\n",
        "print(\"\\n Bigrams along with their frequency \")\n",
        "print(bigramCounts)\n",
        "\n",
        "print(\"\\n Unigrams along with their frequency \")\n",
        "print(unigramCounts)\n",
        "\n",
        "bigramProb = calcBigramProb(listOfBigrams, unigramCounts, bigramCounts)\n",
        "\n",
        "print(\"\\n Bigrams along with their probability \")\n",
        "print(bigramProb)\n",
        "inputList=\"I love my name\"\n",
        "splt=inputList.split()\n",
        "outputProb1 = 1\n",
        "bilist=[]\n",
        "bigrm=[]\n",
        "\n",
        "for i in range(len(splt) - 1):\n",
        "    if i<len(splt) - 1:\n",
        "        bilist.append((splt[i], splt[i + 1]))\n",
        "\n",
        "print(\"\\n The bigrams in given sentence are \")\n",
        "print(bilist)\n",
        "for i in range(len(bilist)):\n",
        "    if bilist[i] in bigramProb:\n",
        "        outputProb1 *= bigramProb[bilist[i]]\n",
        "    else:\n",
        "        outputProb1 *= 0\n",
        "print('\\n' + 'Probablility of sentence \\\"I love my name\\\" = ' + str(outputProb1))"
      ]
    }
  ]
}