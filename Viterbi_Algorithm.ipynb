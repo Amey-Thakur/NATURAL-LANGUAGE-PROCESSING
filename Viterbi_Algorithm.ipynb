{
  "nbformat": 4,
  "nbformat_minor": 0,
  "metadata": {
    "colab": {
      "name": "Viterbi_Algorithm.ipynb",
      "private_outputs": true,
      "provenance": [],
      "authorship_tag": "ABX9TyMKEqzKhdrm4ApPXVGU7l8s",
      "include_colab_link": true
    },
    "kernelspec": {
      "name": "python3",
      "display_name": "Python 3"
    },
    "language_info": {
      "name": "python"
    }
  },
  "cells": [
    {
      "cell_type": "markdown",
      "metadata": {
        "id": "view-in-github",
        "colab_type": "text"
      },
      "source": [
        "<a href=\"https://colab.research.google.com/github/Amey-Thakur/NATURAL-LANGUAGE-PROCESSING-AND-COMPUTATIONAL-LAB-II/blob/main/Viterbi_Algorithm.ipynb\" target=\"_parent\"><img src=\"https://colab.research.google.com/assets/colab-badge.svg\" alt=\"Open In Colab\"/></a>"
      ]
    },
    {
      "cell_type": "code",
      "execution_count": null,
      "metadata": {
        "id": "L3ilZ55dJv3i"
      },
      "outputs": [],
      "source": [
        "import numpy as np\n",
        "from numba import jit\n",
        "\n",
        "@jit(nopython=True) \n",
        "def viterbi(A, C, B, O):\n",
        "\n",
        "  I = A.shape[0] \n",
        "  N = len(O)\n",
        "\n",
        "  D = np.zeros((I, N))\n",
        "  E = np.zeros((I, N-1)).astype(np.int32)\n",
        "  D[:, 0] = np.multiply(C, B[:, O[0]])\n",
        "\n",
        "  for n in range(1, N): \n",
        "    for i in range(I):\n",
        "      temp_product = np.multiply(A[:, i], D[:, n-1]) \n",
        "      D[i, n] = np.max(temp_product) * B[i, O[n]] \n",
        "      E[i, n-1] = np.argmax(temp_product)\n",
        "\n",
        "  S_opt = np.zeros(N).astype(np.int32) \n",
        "  S_opt[-1] = np.argmax(D[:, -1])\n",
        "  for n in range(N-2, -1, -1):\n",
        "    S_opt[n] = E[int(S_opt[n+1]), n] \n",
        "\n",
        "  return S_opt, D, E\n",
        "\n",
        "A = np.array([[0.8, 0.1, 0.1], [0.2, 0.7, 0.1], [0.1, 0.3, 0.6]])\n",
        "C = np.array([0.6, 0.2, 0.2])\n",
        "B = np.array([[0.7, 0.0, 0.3], [0.1, 0.9, 0.0], [0.0, 0.2, 0.8]])\n",
        "\n",
        "O = np.array([0, 2, 0, 2, 2, 1]).astype(np.int32) \n",
        "S_opt, D, E = viterbi(A, C, B, O)\n",
        "print('Observation sequence: O = ', O)\n",
        "print('Optimal state sequence: S = ', S_opt) \n",
        "np.set_printoptions(formatter={'ﬂoat': \"{: 7.4f}\".format}) \n",
        "print('D =', D, sep='\\n') \n",
        "np.set_printoptions(formatter={'ﬂoat': \"{: 7.0f}\".format}) \n",
        "print('E =', E, sep='\\n')"
      ]
    }
  ]
}