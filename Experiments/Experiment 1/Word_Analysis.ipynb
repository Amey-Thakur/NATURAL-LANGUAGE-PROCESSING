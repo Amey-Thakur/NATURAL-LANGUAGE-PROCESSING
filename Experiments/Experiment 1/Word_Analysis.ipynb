{
  "nbformat": 4,
  "nbformat_minor": 0,
  "metadata": {
    "colab": {
      "name": "Word_Analysis.ipynb",
      "private_outputs": true,
      "provenance": [],
      "authorship_tag": "ABX9TyM1UbSs1rfLECSSlUQTfCay",
      "include_colab_link": true
    },
    "kernelspec": {
      "name": "python3",
      "display_name": "Python 3"
    },
    "language_info": {
      "name": "python"
    }
  },
  "cells": [
    {
      "cell_type": "markdown",
      "metadata": {
        "id": "view-in-github",
        "colab_type": "text"
      },
      "source": [
        "<a href=\"https://colab.research.google.com/github/Amey-Thakur/NATURAL-LANGUAGE-PROCESSING/blob/main/Word_Analysis.ipynb\" target=\"_parent\"><img src=\"https://colab.research.google.com/assets/colab-badge.svg\" alt=\"Open In Colab\"/></a>"
      ]
    },
    {
      "cell_type": "markdown",
      "source": [
        "# **Word Analysis**"
      ],
      "metadata": {
        "id": "VfyP-MHcYYxG"
      }
    },
    {
      "cell_type": "code",
      "execution_count": null,
      "metadata": {
        "id": "Z81QlXIxYMlz"
      },
      "outputs": [],
      "source": [
        "wordListE=[{\"word\":\"trained\",\"rt\":\"train\",\"cat\":\"v\",\"gen\":\"male\",\"num\":\"sg\",\"case\":\"\",\"per\":\"first\",\"tense\":\"simple-past\",\"aspect\":\"\"}, \n",
        "           {\"word\":\"stood\",\"rt\":\"stand\",\"cat\":\"v\",\"gen\":\"male\",\"num\":\"sg\",\"case\":\"\",\"per\":\"first\",\"tense\":\"simple-past\",\"aspect\":\"\"}, \n",
        "           {\"word\":\"walking\",\"rt\":\"walk\",\"cat\":\"v\",\"gen\":\"male\",\"num\":\"sg\",\"case\":\"\",\"per\":\"first\",\"tense\":\"present-continuous\",\"aspect\":\"\"}, \n",
        "] "
      ]
    },
    {
      "cell_type": "code",
      "source": [
        "def process(word): \n",
        "    for x in wordListE: \n",
        "        if word==x[\"word\"]: \n",
        "            if x['cat']==\"v\": \n",
        "                print(\"Root of word is : \",x['rt'],\"category is verb,\",\"gender is\",x['gen'],\",number is\",x['num'], \", tense is\", \n",
        "                      x['tense'], \", person is\", x['per'],\", aspect is:\",x['aspect'])\n",
        "            else: \n",
        "                print(\"Root of word is : \",x['rt'],\"category is noun,\",\"gender is\",x['gen'],\",number is\",x['num']) "
      ],
      "metadata": {
        "id": "PI2-8tYKYeK2"
      },
      "execution_count": null,
      "outputs": []
    },
    {
      "cell_type": "code",
      "source": [
        "word = input(\"Enter the word:\")\n",
        "print(\"Your word is:\",word)\n",
        "process(word)"
      ],
      "metadata": {
        "id": "joY2OHzPYgRN"
      },
      "execution_count": null,
      "outputs": []
    }
  ]
}