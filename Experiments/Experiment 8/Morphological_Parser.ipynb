{
  "nbformat": 4,
  "nbformat_minor": 0,
  "metadata": {
    "colab": {
      "name": "Morphological_Parser.ipynb",
      "private_outputs": true,
      "provenance": [],
      "authorship_tag": "ABX9TyPJwDOAHYHAtrcCmTkgKYud",
      "include_colab_link": true
    },
    "kernelspec": {
      "name": "python3",
      "display_name": "Python 3"
    },
    "language_info": {
      "name": "python"
    }
  },
  "cells": [
    {
      "cell_type": "markdown",
      "metadata": {
        "id": "view-in-github",
        "colab_type": "text"
      },
      "source": [
        "<a href=\"https://colab.research.google.com/github/Amey-Thakur/NATURAL-LANGUAGE-PROCESSING-AND-COMPUTATIONAL-LAB-II/blob/main/Morphological_Parser.ipynb\" target=\"_parent\"><img src=\"https://colab.research.google.com/assets/colab-badge.svg\" alt=\"Open In Colab\"/></a>"
      ]
    },
    {
      "cell_type": "code",
      "execution_count": null,
      "metadata": {
        "id": "Cdga-rBkH9Z9"
      },
      "outputs": [],
      "source": [
        "import spacy\n",
        "sp = spacy.load('en_core_web_sm')\n",
        "from nltk.stem import PorterStemmer\n",
        "from nltk.tokenize import word_tokenize\n",
        "flag=0\n",
        "ps = PorterStemmer()\n",
        "\n",
        "# choose some words to be stemmed\n",
        "words=[\"programming\"]\n",
        "for w in words:\n",
        "    ps.stem(w)\n",
        "print(\"Before parsing : \", words[0])\n",
        "print(\"After parsing : \", ps.stem(w))\n",
        "if ps.stem(w) == words[0]:\n",
        "    flag=1\n",
        "else:\n",
        "    flag=0\n",
        "if flag==1:\n",
        "    print(\"Reject\")\n",
        "else:\n",
        "    print(\"Accepted\")\n",
        "    \n",
        "# pos tagging\n",
        "sen = sp(str(words[0]))\n",
        "for word in sen:\n",
        "    print(f'{word.text:{12}} {word.pos_:{10}} {spacy.explain(word.tag_)}')"
      ]
    }
  ]
}